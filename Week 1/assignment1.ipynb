{
 "cells": [
  {
   "cell_type": "markdown",
   "metadata": {
    "deletable": false,
    "editable": false,
    "nbgrader": {
     "cell_type": "markdown",
     "checksum": "cacf7f4360d6d53c622742f64048f72c",
     "grade": false,
     "grade_id": "cell-8a754c8ce8a16eeb",
     "locked": true,
     "schema_version": 3,
     "solution": false,
     "task": false
    }
   },
   "source": [
    "# Assignment 1\n",
    "\n",
    "In this assignment, you'll be working with messy medical data and using regex to extract relevant infromation from the data. \n",
    "\n",
    "Each line of the `dates.txt` file corresponds to a medical note. Each note has a date that needs to be extracted, but each date is encoded in one of many formats.\n",
    "\n",
    "The goal of this assignment is to correctly identify all of the different date variants encoded in this dataset and to properly normalize and sort the dates. \n",
    "\n",
    "Here is a list of some of the variants you might encounter in this dataset:\n",
    "* 04/20/2009; 04/20/09; 4/20/09; 4/3/09\n",
    "* Mar-20-2009; Mar 20, 2009; March 20, 2009;  Mar. 20, 2009; Mar 20 2009;\n",
    "* 20 Mar 2009; 20 March 2009; 20 Mar. 2009; 20 March, 2009\n",
    "* Mar 20th, 2009; Mar 21st, 2009; Mar 22nd, 2009\n",
    "* Feb 2009; Sep 2009; Oct 2010\n",
    "* 6/2008; 12/2009\n",
    "* 2009; 2010\n",
    "\n",
    "Once you have extracted these date patterns from the text, the next step is to sort them in ascending chronological order accoring to the following rules:\n",
    "* Assume all dates in xx/xx/xx format are mm/dd/yy\n",
    "* Assume all dates where year is encoded in only two digits are years from the 1900's (e.g. 1/5/89 is January 5th, 1989)\n",
    "* If the day is missing (e.g. 9/2009), assume it is the first day of the month (e.g. September 1, 2009).\n",
    "* If the month is missing (e.g. 2010), assume it is the first of January of that year (e.g. January 1, 2010).\n",
    "* Watch out for potential typos as this is a raw, real-life derived dataset.\n",
    "\n",
    "With these rules in mind, find the correct date in each note and return a pandas Series in chronological order of the original Series' indices. **This Series should be sorted by a tie-break sort in the format of (\"extracted date\", \"original row number\").**\n",
    "\n",
    "For example if the original series was this:\n",
    "\n",
    "    0    1999\n",
    "    1    2010\n",
    "    2    1978\n",
    "    3    2015\n",
    "    4    1985\n",
    "\n",
    "Your function should return this:\n",
    "\n",
    "    0    2\n",
    "    1    4\n",
    "    2    0\n",
    "    3    1\n",
    "    4    3\n",
    "\n",
    "Your score will be calculated using [Kendall's tau](https://en.wikipedia.org/wiki/Kendall_rank_correlation_coefficient), a correlation measure for ordinal data.\n",
    "\n",
    "*This function should return a Series of length 500 and dtype int.*"
   ]
  },
  {
   "cell_type": "code",
   "execution_count": null,
   "metadata": {
    "deletable": false,
    "editable": false,
    "nbgrader": {
     "cell_type": "code",
     "checksum": "4b47ce38a503bfb1f113580f394d8667",
     "grade": false,
     "grade_id": "cell-28048f36edc32946",
     "locked": true,
     "schema_version": 3,
     "solution": false,
     "task": false
    }
   },
   "outputs": [],
   "source": [
    "import pandas as pd\n",
    "\n",
    "doc = []\n",
    "with open('assets/dates.txt') as file:\n",
    "    for line in file:\n",
    "        doc.append(line)\n",
    "\n",
    "df = pd.Series(doc)\n",
    "df.head(10)"
   ]
  },
  {
   "cell_type": "code",
   "execution_count": 1,
   "metadata": {
    "deletable": false,
    "nbgrader": {
     "cell_type": "code",
     "checksum": "3e58e227860ae4b02d6bdddd81506787",
     "grade": false,
     "grade_id": "cell-d6f35a51303ed6ff",
     "locked": false,
     "schema_version": 3,
     "solution": true,
     "task": false
    }
   },
   "outputs": [],
   "source": [
    "import numpy as np\n",
    "from datetime import datetime\n",
    "\n",
    "def date_sorter():\n",
    "    \n",
    "    a1_1 =df.str.extractall(r'(\\d{1,2})[/-](\\d{1,2})[/-](\\d{2})\\b')\n",
    "    a1_2 =df.str.extractall(r'(\\d{1,2})[/-](\\d{1,2})[/-](\\d{4})\\b')\n",
    "    a1 = pd.concat([a1_1,a1_2])\n",
    "    a1.reset_index(inplace=True)\n",
    "    a1_index = a1['level_0']\n",
    "    \n",
    "    a2 = df.str.extractall(r'((?:Jan|Feb|Mar|Apr|May|Jun|Jul|Aug|Sep|Oct|Nov|Dec)[a-z]*[-.]* )((?:\\d{1,2}[?:, -]*)\\d{4})')\n",
    "    a2.reset_index(inplace=True)\n",
    "    a2_index = a2['level_0']\n",
    "    \n",
    "    a3 = df.str.extractall(r'((?:\\d{1,2} ))?((?:Jan|Feb|Mar|Apr|May|Jun|Jul|Aug|Sep|Oct|Nov|Dec)[a-z]*[?:, -]* )(\\d{4})')\n",
    "    a3.reset_index(inplace=True)\n",
    "    a3_index = a3['level_0']\n",
    "    \n",
    "    a6 = df.str.extractall(r'(\\d{1,2})[/](\\d{4})')\n",
    "    a6.reset_index(inplace=True)\n",
    "    a6_index = a6['level_0']\n",
    "    save=[]\n",
    "    for i in a6_index:\n",
    "        if not(i in a1_index.values):\n",
    "            save.append(i)\n",
    "    save = np.asarray(save)\n",
    "    a6 = a6[a6['level_0'].isin(save)]\n",
    "\n",
    "    \n",
    "    a7_1= df.str.extractall(r'[a-z]?[^0-9](\\d{4})[^0-9]')\n",
    "    a7_2 = df.str.extractall(r'^(\\d{4})[^0-9]')\n",
    "    a7 = pd.concat([a7_1,a7_2])\n",
    "    a7.reset_index(inplace=True)\n",
    "\n",
    "    a7_index = a7['level_0']\n",
    "    save=[]\n",
    "    for i in a7_index:\n",
    "        if not((i in a2_index.values) | (i in a3_index.values) | (i in a6_index.values)):\n",
    "            save.append(i)\n",
    "    save = np.asarray(save)\n",
    "    a7 = a7[a7['level_0'].isin(save)]\n",
    "    \n",
    "    s = a1.level_0.values.tolist()+a2.level_0.values.tolist()+a3.level_0.values.tolist()+a6.level_0.values.tolist()+a7.level_0.values.tolist()\n",
    "    s = np.asarray(s)\n",
    "    \n",
    "    a1.columns=['level_0','match','month','day','year']\n",
    "    a1['year']=a1['year'].apply(str)\n",
    "    a1['year']=a1['year'].apply(lambda x: '19'+x if len(x)<=2 else x)\n",
    "   \n",
    "    a2[1] = a2[1].apply(lambda x: x.replace(',',''))\n",
    "    a2['day'] = a2[1].apply(lambda x:x.split(' ')[0])\n",
    "    a2['year'] = a2[1].apply(lambda x:x.split(' ')[1])\n",
    "    a2.columns=['level_0','match','month','day-year','day','year']\n",
    "    a2.drop('day-year',axis=1,inplace=True) \n",
    "    \n",
    "    a3.columns=['level_0','match','day','month','year']\n",
    "    a3['day'] = a3['day'].replace(np.nan,-99)\n",
    "    a3['day'] = a3['day'].apply(lambda x: 1 if int(x)==-99 else x)\n",
    "\n",
    "    a3['month'] = a3.month.apply(lambda x: x[:3])\n",
    "    a3['month'] = pd.to_datetime(a3.month, format='%b').dt.month\n",
    "    \n",
    "    a6.columns=['level_0','match','month','year']\n",
    "    a6['day']=1\n",
    "  \n",
    "    a7.columns=['level_0','match','year']\n",
    "    a7['day']=1\n",
    "    a7['month']=1\n",
    "   \n",
    "    final = pd.concat([a1,a2,a3,a6,a7])\n",
    "    final['date'] =pd.to_datetime(final['month'].apply(str)+'/'+final['day'].apply(str)+'/'+final['year'].apply(str))\n",
    "    final = final.sort_values(by='level_0').set_index('level_0')\n",
    "\n",
    "    myList = final['date']\n",
    "    answer = pd.Series([i[0] for i in sorted(enumerate(myList), key=lambda x:x[1])],np.arange(500))\n",
    "    return answer"
   ]
  },
  {
   "cell_type": "code",
   "execution_count": null,
   "metadata": {},
   "outputs": [],
   "source": [
    "def diff(first, second):\n",
    "    second = set(second)\n",
    "    return [item for item in first if item not in second]"
   ]
  },
  {
   "cell_type": "code",
   "execution_count": null,
   "metadata": {
    "deletable": false,
    "editable": false,
    "nbgrader": {
     "cell_type": "code",
     "checksum": "c0843c1f0ad2aaa45fa9ac4012f1aa43",
     "grade": true,
     "grade_id": "cell-373f878879c00996",
     "locked": true,
     "points": 4,
     "schema_version": 3,
     "solution": false,
     "task": false
    }
   },
   "outputs": [],
   "source": []
  },
  {
   "cell_type": "code",
   "execution_count": null,
   "metadata": {
    "deletable": false,
    "editable": false,
    "nbgrader": {
     "cell_type": "code",
     "checksum": "0e2f5bb6bab79c07a81ec366c46c4d49",
     "grade": true,
     "grade_id": "cell-0ebae76e6cd794be",
     "locked": true,
     "points": 1,
     "schema_version": 3,
     "solution": false,
     "task": false
    }
   },
   "outputs": [],
   "source": []
  }
 ],
 "metadata": {
  "coursera": {
   "course_slug": "python-text-mining",
   "graded_item_id": "LvcWI",
   "launcher_item_id": "krne9",
   "part_id": "Mkp1I"
  },
  "kernelspec": {
   "display_name": "Python 3 (ipykernel)",
   "language": "python",
   "name": "python3"
  },
  "language_info": {
   "codemirror_mode": {
    "name": "ipython",
    "version": 3
   },
   "file_extension": ".py",
   "mimetype": "text/x-python",
   "name": "python",
   "nbconvert_exporter": "python",
   "pygments_lexer": "ipython3",
   "version": "3.9.13"
  },
  "vscode": {
   "interpreter": {
    "hash": "aee8b7b246df8f9039afb4144a1f6fd8d2ca17a180786b69acc140d282b71a49"
   }
  }
 },
 "nbformat": 4,
 "nbformat_minor": 4
}
